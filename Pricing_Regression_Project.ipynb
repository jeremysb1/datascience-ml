{
  "nbformat": 4,
  "nbformat_minor": 0,
  "metadata": {
    "colab": {
      "provenance": [],
      "authorship_tag": "ABX9TyPi89vyV6itrQe7vlFUEaqA",
      "include_colab_link": true
    },
    "kernelspec": {
      "name": "python3",
      "display_name": "Python 3"
    },
    "language_info": {
      "name": "python"
    }
  },
  "cells": [
    {
      "cell_type": "markdown",
      "metadata": {
        "id": "view-in-github",
        "colab_type": "text"
      },
      "source": [
        "<a href=\"https://colab.research.google.com/github/jeremysb1/machine-learning/blob/main/Pricing_Regression_Project.ipynb\" target=\"_parent\"><img src=\"https://colab.research.google.com/assets/colab-badge.svg\" alt=\"Open In Colab\"/></a>"
      ]
    },
    {
      "cell_type": "markdown",
      "source": [
        "# 🚜 **Predicting the Sale Price of Bulldozers using Machine Learning**\n",
        "\n",
        "In this notebook, I am going to go through an example machine learning project with the goal of predicting the sale price of bulldozers.\n",
        "\n",
        "This kind of problem is known as a regression problem since it's trying to predict a number.\n",
        "\n",
        "The data and evaluation metric I'll be using (root mean square log error or RMSLE) is from the Kaggle Bluebook for Bulldozers competition.\n"
      ],
      "metadata": {
        "id": "Sno1wjpotpiH"
      }
    }
  ]
}